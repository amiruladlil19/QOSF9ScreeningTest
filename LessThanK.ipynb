{
 "cells": [
  {
   "cell_type": "markdown",
   "id": "85741dde-cd1a-4ff4-8815-a544f807a679",
   "metadata": {},
   "source": [
    "## Task 1 : Less than k\n",
    "\n",
    "Given a positive integer “k” and a list of integer numbers, look for the numbers within the\n",
    "list, that are less than k. Consider an appropriate number of qubits and explain why your\n",
    "proposal is valid for all kinds of numbers in case"
   ]
  },
  {
   "cell_type": "markdown",
   "id": "c8894cc3-dbf2-4afd-bb7f-6d9854b319c0",
   "metadata": {},
   "source": [
    "## Proposed Solution :\n",
    "\n",
    "To find the integers in a list l that are less than a positive integer k, the first thing that we do is to eliminate an obvious obstacle, which is the negative integers. After that, we can compare the integer k with each element in l by subtracting k with each element in l. We use Quantum Fourier Transform (QFT) for the subtraction. \n",
    "\n",
    "To do the subtraction, we can encode a number in binary format, and we can represent a binary number as a quantum state by using the computational basis as the following\n",
    "$$\n",
    "\\ket{m} = \\ket{q_0q_1...q_{n-1}}\n",
    "$$\n",
    "where the formula to obtain the decimal number is\n",
    "$$\n",
    "m = \\sum_{i=0}^{n-1}2^{n-1-i}q_i.\n",
    "$$\n",
    "We can also represent a number by using another basis. In this case, we use a Fourier basis. In Fourier basis, all the states will be represented via qubits in the XY-plane of the Bloch sphere. This is how we can represent a number in this basis. Suppose we want to represent the number m by using n qubits, we can set the phase for the j-th qubit to be \n",
    "$$\n",
    "\\alpha_j = \\frac{2m\\pi}{2^j}.\n",
    "$$\n"
   ]
  },
  {
   "cell_type": "code",
   "execution_count": 1,
   "id": "7689a68a-1247-4dfb-879b-86057dab596f",
   "metadata": {},
   "outputs": [],
   "source": [
    "import pennylane as qml\n",
    "import numpy as np\n",
    "\n",
    "# A helper function that returns the bit length of the input integer\n",
    "def bitlen(num):\n",
    "    binary_string = bin(num)[2:]  \n",
    "    binary_array = [int(bit) for bit in binary_string]\n",
    "    return len(binary_array)\n",
    "\n",
    "# \n",
    "def add_k_fourier(k, wires):\n",
    "    for j in range(len(wires)):\n",
    "        qml.RZ(k * np.pi / (2**j), wires=wires[j])\n",
    "        \n"
   ]
  },
  {
   "cell_type": "markdown",
   "id": "1e801f28-3c8b-432c-ac5c-8b07b5a9480d",
   "metadata": {},
   "source": [
    "Here's how we can use QFT to do the subtraction:\n",
    "1. We use QFT to convert $\\ket{m}$ from computational basis into Fourier basis\n",
    "2. We use the Rz gate to rotate the j-th qubit by the angle $-\\frac{2p\\pi}{2^j}$, which leads to the phases $\\frac{2(m-p)\\pi}{2^j}$\n",
    "3. We convert back the number into the computational basis to obtain $m-p$\n",
    "\n",
    "We set the number of qubits to be n + 1, where n is the bit length of k. By doing this, the result in computational basis of subtraction of k with a positive integer that is less than k will have 0 as the first qubit, while the subtraction of k with the positive integer that is larger than k will have 1 as the first qubit. "
   ]
  },
  {
   "cell_type": "code",
   "execution_count": 2,
   "id": "9d3e3354-3ffa-4cff-84d5-291b46bab692",
   "metadata": {},
   "outputs": [],
   "source": [
    "def execute(m,k):\n",
    "    n_wires = bitlen(k) + 1\n",
    "    dev = qml.device(\"default.qubit\", wires=n_wires, shots=1)\n",
    "    @qml.qnode(dev)\n",
    "    def subtract(m, k):\n",
    "        qml.BasisEmbedding(m, wires=range(n_wires))  # m encoding\n",
    "        qml.QFT(wires=range(n_wires))  # step 1   \n",
    "        add_k_fourier(k, range(n_wires))  # step 2   \n",
    "        qml.adjoint(qml.QFT)(wires=range(n_wires))  # step 3   \n",
    "        return qml.sample()\n",
    "    return subtract(m,k)"
   ]
  },
  {
   "cell_type": "markdown",
   "id": "7bb4769c-e97e-4f7e-8936-1f5993093996",
   "metadata": {},
   "source": [
    "Before we run this procedure, we have to eliminate one more obvious obstacle, that is the set of positive integers that the bit length are larger than the bit length of k. Because they are obviously larger than k. "
   ]
  },
  {
   "cell_type": "code",
   "execution_count": 16,
   "id": "4da2a58c-0d81-43a0-b137-7663bcddb047",
   "metadata": {},
   "outputs": [],
   "source": [
    "def less_than_k(k,l):\n",
    "    less = []\n",
    "    print(\"Binary subtraction result:\")\n",
    "    for i in l:\n",
    "        if i < 0:\n",
    "            less.append(i)\n",
    "        elif execute(-i,k)[0] == 0 and k != i and bitlen(i) <= bitlen(k):\n",
    "            print(\"integer: \", i, \"Binary subtraction:\", execute(-i,k))\n",
    "            less.append(i)\n",
    "    return less"
   ]
  },
  {
   "cell_type": "code",
   "execution_count": 17,
   "id": "f3d7aeff-c9be-46c4-9f16-720b2a8b0be9",
   "metadata": {},
   "outputs": [
    {
     "name": "stdout",
     "output_type": "stream",
     "text": [
      "Binary subtraction result:\n",
      "integer:  1 Binary subtraction: [0 1 0 0]\n",
      "integer:  2 Binary subtraction: [0 0 1 1]\n",
      "integer:  3 Binary subtraction: [0 0 1 0]\n",
      "integer:  4 Binary subtraction: [0 0 0 1]\n",
      "Less than k: [-20, -10, -4, 1, 2, 3, 4]\n"
     ]
    }
   ],
   "source": [
    "le = less_than_k(5,[-20,-10,-4,1,2,3,4,5,6,7,8,100,1000,10000])\n",
    "print(\"Less than k:\", le)"
   ]
  },
  {
   "cell_type": "markdown",
   "id": "6503875c-9edd-435f-a1c1-468a7f90315a",
   "metadata": {},
   "source": [
    "## Discussion\n",
    "\n",
    "Our proposed solution for this task is by using subtraction to compare an integer k with each element in a list l. This subtraction was done by using the Quantum Fourier Transform. This procedure requires n+1 qubit where n is the bit length of the binary representation of k. However, for this proposal to work properly, we must eliminate two obvious obstacles; the negative elements in the list and the numbers whose bit length of the binary representation is larger than the bit length of the binary representation of k. By doing this, our proposal works for every positive integer k and for every list of integers l."
   ]
  },
  {
   "cell_type": "markdown",
   "id": "af417013-6727-444b-8959-70d0c292cf0b",
   "metadata": {},
   "source": [
    "## Reference\n",
    "\n",
    "1. Basic Arithmetic with the Quantum Fourier Transform (QFT).\" PennyLane Demos, PennyLane, https://pennylane.ai/qml/demos/tutorial_qft_arithmetics/."
   ]
  },
  {
   "cell_type": "code",
   "execution_count": null,
   "id": "a04b0b72-5caa-43b2-9791-894864c8c106",
   "metadata": {},
   "outputs": [],
   "source": []
  },
  {
   "cell_type": "code",
   "execution_count": null,
   "id": "0737cd95-dbd6-4f28-962f-354884d02087",
   "metadata": {},
   "outputs": [],
   "source": []
  }
 ],
 "metadata": {
  "kernelspec": {
   "display_name": "pennylane_kernel",
   "language": "python",
   "name": "pennylane_kernel"
  },
  "language_info": {
   "codemirror_mode": {
    "name": "ipython",
    "version": 3
   },
   "file_extension": ".py",
   "mimetype": "text/x-python",
   "name": "python",
   "nbconvert_exporter": "python",
   "pygments_lexer": "ipython3",
   "version": "3.12.2"
  }
 },
 "nbformat": 4,
 "nbformat_minor": 5
}
